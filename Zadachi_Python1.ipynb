{
 "cells": [
  {
   "cell_type": "code",
   "execution_count": null,
   "id": "92234f96",
   "metadata": {},
   "outputs": [],
   "source": [
    "\n"
   ]
  },
  {
   "cell_type": "markdown",
   "id": "b0bd2057",
   "metadata": {},
   "source": [
    "##### Для перемножения двух чисел в двоичном представлении была использованна функция перевода чисел из одной системы счисления в другую ( convert)"
   ]
  },
  {
   "cell_type": "code",
   "execution_count": 55,
   "id": "0fa14154",
   "metadata": {},
   "outputs": [
    {
     "name": "stdout",
     "output_type": "stream",
     "text": [
      "1011\n",
      "1101\n",
      "двоичное число 10001111 - результат перемножения двоичных чисел 1011 и 1101\n"
     ]
    }
   ],
   "source": [
    "# перевод чисел из одной системы счисления в другую ( по умолчанию на входе и выходе десятичная \n",
    "#  система)\n",
    "def convert(num, to_base = 10, from_base = 10):\n",
    "    alphabet = '0123456789ABCDEFGHIJKLMNOPQRSTUVWXYZ'\n",
    "    digit = []\n",
    "    number = 0\n",
    "    num_str = num\n",
    "    if from_base != 10:\n",
    "        for i in range(len(num_str)):\n",
    "            number += int(alphabet.index(num_str[i])) * from_base**(len(num_str) - i-1)\n",
    "    else:\n",
    "        number = int(num)\n",
    "    if to_base == 10:\n",
    "        return str(number)\n",
    "    else:\n",
    "        while number > 0:\n",
    "            rest = number % to_base\n",
    "            digit.append(rest)\n",
    "            number //= to_base\n",
    "        num_out = ''\n",
    "        for i in range(len(digit)):\n",
    "            num_out += alphabet[digit[i]]\n",
    "    number_out = num_out[::-1]\n",
    "    return number_out\n",
    "        \n",
    "n1 = input()\n",
    "n2 = input()\n",
    "numer1 = convert(n1,from_base = 2, to_base = 10)\n",
    "numer2 = convert(n2,from_base = 2, to_base = 10)\n",
    "numer = str(int(numer1) * int(numer2))\n",
    "n_out = convert(numer,from_base = 10, to_base = 2)\n",
    "print(f\"двоичное число {n_out} - результат перемножения двоичных чисел {n1} и {n2}\")\n"
   ]
  },
  {
   "cell_type": "markdown",
   "id": "28149be6",
   "metadata": {},
   "source": [
    "##### Для проверка парности скобок на вход возможно подавать строку с любыми символами ( не только скобки"
   ]
  },
  {
   "cell_type": "code",
   "execution_count": 59,
   "id": "dde5a40e",
   "metadata": {},
   "outputs": [
    {
     "name": "stdout",
     "output_type": "stream",
     "text": [
      "((варн))\n",
      "все скобки парные\n"
     ]
    }
   ],
   "source": [
    "#Проверка парности скобок\n",
    "def steck_par(word):\n",
    "    stek = []\n",
    "    ind = [0]\n",
    "    dic = {')':'(', ']':'[', '}':'{'}\n",
    "    for i, c in enumerate(word):\n",
    "        if c in ['(','[','{']:\n",
    "            stek.append(c)\n",
    "            ind.append(i+1)\n",
    "        elif c in [')', ']', '}']:\n",
    "            if len(stek):\n",
    "                if dic[c] != stek[-1]:\n",
    "                    ind.append(i+1)\n",
    "                    return ind\n",
    "                else:\n",
    "                    stek.pop()\n",
    "                    ind.pop()\n",
    "            else:\n",
    "                ind.append(i+1)\n",
    "                return ind\n",
    "    return ind\n",
    "\n",
    "word = input()\n",
    "ind = steck_par(word)\n",
    "out = 'все скобки парные' if ( len(ind) == 1) else f\"непарная скобка в {ind[-1]} позиции\"\n",
    "print(out)"
   ]
  },
  {
   "cell_type": "markdown",
   "id": "ad8c714b",
   "metadata": {},
   "source": [
    "##### Проверка строки на \"палиндромность\" проводится простым сравнением начальных символов и им соответствующих символов из конца строки. Строка из одного символа будет считаться палиндромом"
   ]
  },
  {
   "cell_type": "code",
   "execution_count": 60,
   "id": "a80989c9",
   "metadata": {},
   "outputs": [
    {
     "name": "stdout",
     "output_type": "stream",
     "text": [
      "ц\n",
      "Строка ц является палиндромом\n"
     ]
    }
   ],
   "source": [
    "# проверка палиндрома\n",
    "in_str = input()\n",
    "s = [c for c in in_str if c != ' ']\n",
    "out = True\n",
    "n = len(s)\n",
    "for i in range(n//2):\n",
    "    if s[i] != s[n-1-i]:\n",
    "        out = False\n",
    "        break\n",
    "res = 'является палиндромом' if out else 'не является палиндромом'\n",
    "print(f\"Строка {in_str} {res}\")"
   ]
  },
  {
   "cell_type": "markdown",
   "id": "46f0ea3d",
   "metadata": {},
   "source": [
    "###### Перевод в Римскую систему счисления  ( исходое число меньше 4000!!, т.к. далее возникают различные способы написания чисел)"
   ]
  },
  {
   "cell_type": "code",
   "execution_count": 37,
   "id": "e4239fcc",
   "metadata": {},
   "outputs": [
    {
     "name": "stdout",
     "output_type": "stream",
     "text": [
      "999\n",
      "Число 999 в римской системе счисления - CMXCIX\n"
     ]
    }
   ],
   "source": [
    "# Перевод в Римскую систему счисления\n",
    "special_dict ={4:\"IV\", 9:\"IX\", 40:\"XL\", 90:\"XC\", 400:\"CD\", 900:\"CM\"}\n",
    "normal_dic = {1:'I', 5:\"V\", 10:\"X\", 50:\"L\", 100:\"C\", 500:\"D\", 1000:\"M\"}\n",
    "degree_list = [1000, 100, 10, 1]\n",
    "n = N = int(input())\n",
    "s = '' # начальное значение строки (представление в римской системе)\n",
    "for c in degree_list:\n",
    "    if (k := n // c):\n",
    "        if c == 1000:\n",
    "            s = s + normal_dic[1000]*k\n",
    "        elif c == 100:\n",
    "            if k in special_dict:\n",
    "                s = s + special_dict[k*100]\n",
    "            elif k < 5:\n",
    "                s = s+ normal_dic[100] * k\n",
    "            elif k > 5:\n",
    "                s = s + normal_dic[500] + normal_dic[100] * (k-5)\n",
    "            else:\n",
    "                s = s + normal_dic[500]\n",
    "        elif c == 10:\n",
    "            if k in special_dict:\n",
    "                s = s + special_dict[k*10]\n",
    "            elif k < 5:\n",
    "                s = s+ normal_dic[10] * k\n",
    "            elif k > 5:\n",
    "                s = s + normal_dic[50] + normal_dic[10] * (k-5)\n",
    "            else:\n",
    "                s = s + normal_dic[50]\n",
    "        else:\n",
    "            if k in special_dict:\n",
    "                s = s + special_dict[k]\n",
    "            elif k < 5:\n",
    "                s = s+ normal_dic[1] * k\n",
    "            elif k > 5:\n",
    "                s = s + normal_dic[5] + normal_dic[1] * (k-5)\n",
    "            else:\n",
    "                s = s + normal_dic[5]\n",
    "    n %= c\n",
    "print(F\"Число {N} в римской системе счисления - {s}\")\n",
    "\n"
   ]
  },
  {
   "cell_type": "code",
   "execution_count": null,
   "id": "d2c17148",
   "metadata": {},
   "outputs": [],
   "source": []
  }
 ],
 "metadata": {
  "kernelspec": {
   "display_name": "Python 3 (ipykernel)",
   "language": "python",
   "name": "python3"
  },
  "language_info": {
   "codemirror_mode": {
    "name": "ipython",
    "version": 3
   },
   "file_extension": ".py",
   "mimetype": "text/x-python",
   "name": "python",
   "nbconvert_exporter": "python",
   "pygments_lexer": "ipython3",
   "version": "3.9.7"
  }
 },
 "nbformat": 4,
 "nbformat_minor": 5
}
