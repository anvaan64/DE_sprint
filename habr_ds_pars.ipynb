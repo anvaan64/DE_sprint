{
 "cells": [
  {
   "cell_type": "code",
   "execution_count": null,
   "id": "0ab5a260",
   "metadata": {},
   "outputs": [],
   "source": []
  },
  {
   "cell_type": "code",
   "execution_count": 79,
   "id": "d21b2597",
   "metadata": {},
   "outputs": [],
   "source": [
    "\n",
    "import re\n",
    "import json\n",
    "import requests as req\n",
    "from bs4 import BeautifulSoup\n",
    "\n",
    "url = 'https://habr.com/ru/search/?q=data%20science&target_type=posts&order=rating'\n",
    "resp = req.get(url)\n",
    "soup = BeautifulSoup(resp.text, \"lxml\")\n",
    "res = soup.find('div',{\"data-test-id\":\"articles-list\"})\n",
    "\n",
    "date = []\n",
    "title = []\n",
    "like = []\n",
    "ref = []\n",
    "\n",
    "time = res.findAll(\"span\", {\"class\":\"tm-article-snippet__datetime-published\"})\n",
    "name = res.findAll('h2', {\"class\":\"tm-article-snippet__title tm-article-snippet__title_h2\"})\n",
    "lik = res.findAll('title')\n",
    "reff = res.findAll('a',{\"class\":\"tm-user-info__username\"})\n",
    "\n",
    "for na in name:\n",
    "    title.append(na.text)\n",
    "for item in time:\n",
    "    date.append(item.text)\n",
    "for li in lik:\n",
    "    c = re.findall(r'\\d+:', li.text)\n",
    "    if c:\n",
    "        like.append(int(c[0][:-1]))\n",
    "for el in reff:\n",
    "    ref.append('https://habr.com' + el.get('href'))\n",
    "    \n",
    "\n",
    "keys = [\"Название\", \"Ссылка на статью \", \"Время публикации\", \"Количество лайков\"]\n",
    "param = list(zip(title, date, ref, like))\n",
    "dic = [dict(zip(keys, c)) for c in param]\n",
    "info = {key: value for (key, value) in enumerate(dic)}   \n",
    "\n",
    "with open(\"habr_ds.json\",\"w\", encoding='utf-8') as f:\n",
    "        json.dump(info,f, ensure_ascii=False)"
   ]
  }
 ],
 "metadata": {
  "kernelspec": {
   "display_name": "Python 3 (ipykernel)",
   "language": "python",
   "name": "python3"
  },
  "language_info": {
   "codemirror_mode": {
    "name": "ipython",
    "version": 3
   },
   "file_extension": ".py",
   "mimetype": "text/x-python",
   "name": "python",
   "nbconvert_exporter": "python",
   "pygments_lexer": "ipython3",
   "version": "3.9.7"
  }
 },
 "nbformat": 4,
 "nbformat_minor": 5
}
